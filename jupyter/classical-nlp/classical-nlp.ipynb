{
 "cells": [
  {
   "cell_type": "markdown",
   "metadata": {},
   "source": [
    "### Let's go on a text adventure!"
   ]
  },
  {
   "cell_type": "code",
   "execution_count": 3,
   "metadata": {
    "collapsed": false
   },
   "outputs": [
    {
     "name": "stdout",
     "output_type": "stream",
     "text": [
      "THE MAGIC MISSION\n",
      "=================\n",
      "\n",
      "castle tower\n",
      "============\n",
      "You wake up on the cold, stone floor. A rectangle of orange light strike the\n",
      "floor. You see a man dressed black trench coat. He says to you, \"the wizard\n",
      "request you to go on a quest. A book you will take or maybe just make. A shell\n",
      "which will wisper and tell. A cloth as big as a blanket. Everything else you\n",
      "will find on your way.\"\n",
      "\n",
      "A rectangle of light.\n",
      "\n",
      "North: Hillside Street\n",
      "East: Harbor Street\n",
      "\n",
      ">>> North\n",
      "I do not understand that command. Type \"help\" for a list of commands.\n",
      "\n",
      ">>> north\n",
      "You move to the north.\n",
      "Hillside Street\n",
      "===============\n",
      "The beautiful statue of Ben Franklin with flowers around the statue of Ben\n",
      "Franklin. A women is selling flowers\n",
      "\n",
      "A bunch of flowers wrapped in a ribbon.\n",
      "\n",
      "South: castle tower\n",
      "East: Bakery\n",
      "West: Hillside Park\n",
      "\n",
      ">>> take flowers\n",
      "You take a bunch of flowers.\n",
      "\n",
      ">>> e\n",
      "You move to the east.\n",
      "Bakery\n",
      "======\n",
      "The delightful smell of meat pies fills the air, making you hungry. The baker\n",
      "flashes a grin, as he slides a box marked `Not Human Organs` under a table with\n",
      "his foot.\n",
      "\n",
      "A newspaper with the headline \"Strike Leaves Sailors Adrift\"\n",
      "\n",
      "South: Harbor Street\n",
      "West: Hillside Street\n",
      "\n",
      ">>> take newspaper\n",
      "You take the newspaper.\n",
      "\n",
      ">>> e\n",
      "You cannot move in that direction\n",
      "\n",
      ">>> look newspaper\n",
      "The newspaper article describes how the stike by the local ship builders guild\n",
      "has left several boats unfinished.\n",
      "\n",
      ">>> s\n",
      "You move to the south.\n",
      "Harbor Street\n",
      "=============\n",
      " there are seagulls flying over the water. People are walking onto the dock and\n",
      "sailing away with woooden rafts.\n",
      "\n",
      "white sand.\n",
      "wood on the sand\n",
      "\n",
      "North: Bakery\n",
      "East: sea\n",
      "West: castle tower\n",
      "\n",
      ">>> e\n",
      "You move to the east.\n",
      "sea\n",
      "===\n",
      "You're on the wooden raft that was for sale. It was broken. The raft is a drift\n",
      "heading down wind east.\n",
      "\n",
      "a brown stick\n"
     ]
    },
    {
     "ename": "KeyError",
     "evalue": "u'drift would'",
     "output_type": "error",
     "traceback": [
      "\u001b[1;31m---------------------------------------------------------------------------\u001b[0m",
      "\u001b[1;31mKeyError\u001b[0m                                  Traceback (most recent call last)",
      "\u001b[1;32m/home/hobs/src/totalgood/pycon-2016/pycon-2016-nlp-tutorial/jupyter/classical-nlp/ta/story.py\u001b[0m in \u001b[0;36m<module>\u001b[1;34m()\u001b[0m\n\u001b[0;32m    555\u001b[0m     \u001b[1;32mprint\u001b[0m\u001b[1;33m(\u001b[0m\u001b[1;33m)\u001b[0m\u001b[1;33m\u001b[0m\u001b[0m\n\u001b[0;32m    556\u001b[0m     \u001b[0mdisplayLocation\u001b[0m\u001b[1;33m(\u001b[0m\u001b[0mlocation\u001b[0m\u001b[1;33m)\u001b[0m\u001b[1;33m\u001b[0m\u001b[0m\n\u001b[1;32m--> 557\u001b[1;33m     \u001b[0mTextAdventureCmd\u001b[0m\u001b[1;33m(\u001b[0m\u001b[1;33m)\u001b[0m\u001b[1;33m.\u001b[0m\u001b[0mcmdloop\u001b[0m\u001b[1;33m(\u001b[0m\u001b[1;33m)\u001b[0m\u001b[1;33m\u001b[0m\u001b[0m\n\u001b[0m",
      "\u001b[1;32m/usr/lib/python2.7/cmd.pyc\u001b[0m in \u001b[0;36mcmdloop\u001b[1;34m(self, intro)\u001b[0m\n\u001b[0;32m    140\u001b[0m                             \u001b[0mline\u001b[0m \u001b[1;33m=\u001b[0m \u001b[0mline\u001b[0m\u001b[1;33m.\u001b[0m\u001b[0mrstrip\u001b[0m\u001b[1;33m(\u001b[0m\u001b[1;34m'\\r\\n'\u001b[0m\u001b[1;33m)\u001b[0m\u001b[1;33m\u001b[0m\u001b[0m\n\u001b[0;32m    141\u001b[0m                 \u001b[0mline\u001b[0m \u001b[1;33m=\u001b[0m \u001b[0mself\u001b[0m\u001b[1;33m.\u001b[0m\u001b[0mprecmd\u001b[0m\u001b[1;33m(\u001b[0m\u001b[0mline\u001b[0m\u001b[1;33m)\u001b[0m\u001b[1;33m\u001b[0m\u001b[0m\n\u001b[1;32m--> 142\u001b[1;33m                 \u001b[0mstop\u001b[0m \u001b[1;33m=\u001b[0m \u001b[0mself\u001b[0m\u001b[1;33m.\u001b[0m\u001b[0monecmd\u001b[0m\u001b[1;33m(\u001b[0m\u001b[0mline\u001b[0m\u001b[1;33m)\u001b[0m\u001b[1;33m\u001b[0m\u001b[0m\n\u001b[0m\u001b[0;32m    143\u001b[0m                 \u001b[0mstop\u001b[0m \u001b[1;33m=\u001b[0m \u001b[0mself\u001b[0m\u001b[1;33m.\u001b[0m\u001b[0mpostcmd\u001b[0m\u001b[1;33m(\u001b[0m\u001b[0mstop\u001b[0m\u001b[1;33m,\u001b[0m \u001b[0mline\u001b[0m\u001b[1;33m)\u001b[0m\u001b[1;33m\u001b[0m\u001b[0m\n\u001b[0;32m    144\u001b[0m             \u001b[0mself\u001b[0m\u001b[1;33m.\u001b[0m\u001b[0mpostloop\u001b[0m\u001b[1;33m(\u001b[0m\u001b[1;33m)\u001b[0m\u001b[1;33m\u001b[0m\u001b[0m\n",
      "\u001b[1;32m/usr/lib/python2.7/cmd.pyc\u001b[0m in \u001b[0;36monecmd\u001b[1;34m(self, line)\u001b[0m\n\u001b[0;32m    219\u001b[0m             \u001b[1;32mexcept\u001b[0m \u001b[0mAttributeError\u001b[0m\u001b[1;33m:\u001b[0m\u001b[1;33m\u001b[0m\u001b[0m\n\u001b[0;32m    220\u001b[0m                 \u001b[1;32mreturn\u001b[0m \u001b[0mself\u001b[0m\u001b[1;33m.\u001b[0m\u001b[0mdefault\u001b[0m\u001b[1;33m(\u001b[0m\u001b[0mline\u001b[0m\u001b[1;33m)\u001b[0m\u001b[1;33m\u001b[0m\u001b[0m\n\u001b[1;32m--> 221\u001b[1;33m             \u001b[1;32mreturn\u001b[0m \u001b[0mfunc\u001b[0m\u001b[1;33m(\u001b[0m\u001b[0marg\u001b[0m\u001b[1;33m)\u001b[0m\u001b[1;33m\u001b[0m\u001b[0m\n\u001b[0m\u001b[0;32m    222\u001b[0m \u001b[1;33m\u001b[0m\u001b[0m\n\u001b[0;32m    223\u001b[0m     \u001b[1;32mdef\u001b[0m \u001b[0memptyline\u001b[0m\u001b[1;33m(\u001b[0m\u001b[0mself\u001b[0m\u001b[1;33m)\u001b[0m\u001b[1;33m:\u001b[0m\u001b[1;33m\u001b[0m\u001b[0m\n",
      "\u001b[1;32m/home/hobs/src/totalgood/pycon-2016/pycon-2016-nlp-tutorial/jupyter/classical-nlp/ta/story.py\u001b[0m in \u001b[0;36mdo_east\u001b[1;34m(self, arg)\u001b[0m\n\u001b[0;32m    155\u001b[0m     \u001b[1;32mdef\u001b[0m \u001b[0mdo_east\u001b[0m\u001b[1;33m(\u001b[0m\u001b[0mself\u001b[0m\u001b[1;33m,\u001b[0m \u001b[0marg\u001b[0m\u001b[1;33m)\u001b[0m\u001b[1;33m:\u001b[0m\u001b[1;33m\u001b[0m\u001b[0m\n\u001b[0;32m    156\u001b[0m         \u001b[1;34m\"\"\"Go to the area to the east, if possible.\"\"\"\u001b[0m\u001b[1;33m\u001b[0m\u001b[0m\n\u001b[1;32m--> 157\u001b[1;33m         \u001b[0mmoveDirection\u001b[0m\u001b[1;33m(\u001b[0m\u001b[1;34m'east'\u001b[0m\u001b[1;33m)\u001b[0m\u001b[1;33m\u001b[0m\u001b[0m\n\u001b[0m\u001b[0;32m    158\u001b[0m \u001b[1;33m\u001b[0m\u001b[0m\n\u001b[0;32m    159\u001b[0m     \u001b[1;32mdef\u001b[0m \u001b[0mdo_west\u001b[0m\u001b[1;33m(\u001b[0m\u001b[0mself\u001b[0m\u001b[1;33m,\u001b[0m \u001b[0marg\u001b[0m\u001b[1;33m)\u001b[0m\u001b[1;33m:\u001b[0m\u001b[1;33m\u001b[0m\u001b[0m\n",
      "\u001b[1;32m/home/hobs/src/totalgood/pycon-2016/pycon-2016-nlp-tutorial/jupyter/classical-nlp/ta/story.py\u001b[0m in \u001b[0;36mmoveDirection\u001b[1;34m(direction)\u001b[0m\n\u001b[0;32m     91\u001b[0m         \u001b[1;32mprint\u001b[0m\u001b[1;33m(\u001b[0m\u001b[1;34m'You move to the %s.'\u001b[0m \u001b[1;33m%\u001b[0m \u001b[0mdirection\u001b[0m\u001b[1;33m)\u001b[0m\u001b[1;33m\u001b[0m\u001b[0m\n\u001b[0;32m     92\u001b[0m         \u001b[0mlocation\u001b[0m \u001b[1;33m=\u001b[0m \u001b[0mstate\u001b[0m\u001b[1;33m[\u001b[0m\u001b[0mlocation\u001b[0m\u001b[1;33m]\u001b[0m\u001b[1;33m[\u001b[0m\u001b[0mdirection\u001b[0m\u001b[1;33m]\u001b[0m\u001b[1;33m\u001b[0m\u001b[0m\n\u001b[1;32m---> 93\u001b[1;33m         \u001b[0mdisplayLocation\u001b[0m\u001b[1;33m(\u001b[0m\u001b[0mlocation\u001b[0m\u001b[1;33m)\u001b[0m\u001b[1;33m\u001b[0m\u001b[0m\n\u001b[0m\u001b[0;32m     94\u001b[0m     \u001b[1;32melse\u001b[0m\u001b[1;33m:\u001b[0m\u001b[1;33m\u001b[0m\u001b[0m\n\u001b[0;32m     95\u001b[0m         \u001b[1;32mprint\u001b[0m\u001b[1;33m(\u001b[0m\u001b[1;34m'You cannot move in that direction'\u001b[0m\u001b[1;33m)\u001b[0m\u001b[1;33m\u001b[0m\u001b[0m\n",
      "\u001b[1;32m/home/hobs/src/totalgood/pycon-2016/pycon-2016-nlp-tutorial/jupyter/classical-nlp/ta/story.py\u001b[0m in \u001b[0;36mdisplayLocation\u001b[1;34m(loc)\u001b[0m\n\u001b[0;32m     68\u001b[0m         \u001b[1;32mprint\u001b[0m\u001b[1;33m(\u001b[0m\u001b[1;33m)\u001b[0m\u001b[1;33m\u001b[0m\u001b[0m\n\u001b[0;32m     69\u001b[0m         \u001b[1;32mfor\u001b[0m \u001b[0mitem\u001b[0m \u001b[1;32min\u001b[0m \u001b[0mstate\u001b[0m\u001b[1;33m[\u001b[0m\u001b[0mloc\u001b[0m\u001b[1;33m]\u001b[0m\u001b[1;33m[\u001b[0m\u001b[0mGROUND\u001b[0m\u001b[1;33m]\u001b[0m\u001b[1;33m:\u001b[0m\u001b[1;33m\u001b[0m\u001b[0m\n\u001b[1;32m---> 70\u001b[1;33m             \u001b[1;32mprint\u001b[0m\u001b[1;33m(\u001b[0m\u001b[0mthings\u001b[0m\u001b[1;33m[\u001b[0m\u001b[0mitem\u001b[0m\u001b[1;33m]\u001b[0m\u001b[1;33m[\u001b[0m\u001b[0mGROUNDDESC\u001b[0m\u001b[1;33m]\u001b[0m\u001b[1;33m)\u001b[0m\u001b[1;33m\u001b[0m\u001b[0m\n\u001b[0m\u001b[0;32m     71\u001b[0m \u001b[1;33m\u001b[0m\u001b[0m\n\u001b[0;32m     72\u001b[0m     \u001b[1;31m# Print all the exits.\u001b[0m\u001b[1;33m\u001b[0m\u001b[1;33m\u001b[0m\u001b[0m\n",
      "\u001b[1;31mKeyError\u001b[0m: u'drift would'"
     ]
    }
   ],
   "source": [
    "%run ta/story.py"
   ]
  },
  {
   "cell_type": "markdown",
   "metadata": {},
   "source": [
    "This game was created by a 9 yr-old, so it may be impossible to solve. But one thing you can be sure of, it can be implemented with a Deterministic Finite State Machine. The only data required to hold on the information in this world is contained in a [json file](the-magic-mission.json) of connections between states and the descriptions of those states.\n",
    "These sorts of games were popular in the 70's and 80's when AI and PCs were just taking off.\n",
    "As we look back, we realize that these were some of the first natural language conversational dialog engines.\n",
    "Mathematicians quickly came up with a data structure and model of the processing required to implement these \"worlds\" -- regular expressions, one of the most restricted forms of a Turing Machine. You can prove a lot of things and employ a lot of algoebra with regexes that you can't with a general Turing Machine or less restrictive  If you think about each statement you input into the console as a \"symbol\" and each new location in the world as a \"state\" then the connection to Deterministic Finite State Automata (Regular Expressions) becomes clear.\n",
    "But what about complex worlds where you can do more than just move around, like pick up things required to make future actions possible. That's called a context-sensitive finite state machine. The automata is given a FIFO stack to use to store and retreive one thing from the top of a stack of things that can be \"remembered.\" Things get a lot more complicated if you want to \"solve\" one of these games automatically or enumerate all their possible states. Though the states are enumerable it may not be impractical to explore them all."
   ]
  },
  {
   "cell_type": "markdown",
   "metadata": {},
   "source": [
    "## So let's use regexes to make this world less like a regex!"
   ]
  },
  {
   "cell_type": "code",
   "execution_count": null,
   "metadata": {
    "collapsed": true
   },
   "outputs": [],
   "source": [
    "import re\n",
    "\n",
    "with open('ta/story.py', 'rb+') as f:\n",
    "    s = re.sub(r'state\\[\\s*([\"\\'a-zA-Z_ ]+)\\s*\\]\\[\\s*([\"\\'a-zA-Z_ ]+)\\s*\\]', r'fuzzy_get(fuzzy_get(state, \\1), \\2)', f.read(), re.M)\n",
    "    s = re.sub(r'state\\[\\s*([\"\\'a-zA-Z_ ]+)\\s*\\], r'fuzzy_get(state, \\1)', s, re.M)\n",
    "    f.seek(0)\n",
    "    f.write(s)\n",
    "\n",
    "# !sed -i 's/fuzzy_get\\(state,\\ ([\"\\'a-zA-Z ]+)\\)\\[\\s*([\"\\'a-zA-Z ]+)\\s*\\]/fuzzy_get(fuzzy_get(state, \\1), \\2)/g' ta/story.py"
   ]
  },
  {
   "cell_type": "markdown",
   "metadata": {},
   "source": [
    "## But `fuzzy_get` (`fuzzywuzzy`) doesn't use regexes it uses `str` similarity"
   ]
  },
  {
   "cell_type": "code",
   "execution_count": 1,
   "metadata": {
    "collapsed": false
   },
   "outputs": [
    {
     "data": {
      "text/plain": [
       "False"
      ]
     },
     "execution_count": 1,
     "metadata": {},
     "output_type": "execute_result"
    }
   ],
   "source": [
    "'is equality testing' == 'the best we can do'"
   ]
  },
  {
   "cell_type": "code",
   "execution_count": 7,
   "metadata": {
    "collapsed": false
   },
   "outputs": [
    {
     "name": "stdout",
     "output_type": "stream",
     "text": [
      "0.631578947368\n",
      "0.04\n"
     ]
    }
   ],
   "source": [
    "from __future__ import division\n",
    "s1, s2 = 'we can count shared words and characters', 'as a fraction of the total words \\'n chars in both strs'\n",
    "print(len(set(s1).intersection(set(s2))) / len(set(s1).union(set(s2))))\n",
    "w1, w2 = s1.split(' '), s2.split(' ')\n",
    "print(len(set(w1).intersection(set(w2))) / len(set(w1).union(set(s2))))\n"
   ]
  },
  {
   "cell_type": "code",
   "execution_count": 15,
   "metadata": {
    "collapsed": false
   },
   "outputs": [
    {
     "name": "stdout",
     "output_type": "stream",
     "text": [
      "0.722222222222\n",
      "0.0869565217391\n",
      "[[ 6  8  2  2  4  5  0  0  2  4  1  1  4  6  2  5  4  0]\n",
      " [ 3 10  2  0  4  4  1  3  4  4  4  0  6  6  2  2  5  1]]\n",
      "7.54983443527\n",
      "1/10.0-norm of difference: 2.4183996106e+11\n",
      "1/2.0-norm of difference: 309.234246567\n",
      "1/1.0-norm of difference: 25.0\n",
      "1/0.5-norm of difference: 7.54983443527\n"
     ]
    }
   ],
   "source": [
    "s1, s2 = 'but what about repeated words words words and characters', 'when you reuse words words words and chars within each string'\n",
    "print(len(set(s1).intersection(set(s2))) / len(set(s1).union(set(s2))))\n",
    "w1, w2 = s1.split(' '), s2.split(' ')\n",
    "print(len(set(w1).intersection(set(w2))) / len(set(w1).union(set(s2))))"
   ]
  },
  {
   "cell_type": "markdown",
   "metadata": {},
   "source": [
    "## Why not create a histogram of the counts of `char`s and words?"
   ]
  },
  {
   "cell_type": "code",
   "execution_count": null,
   "metadata": {
    "collapsed": true
   },
   "outputs": [],
   "source": [
    "from collections import Counter\n",
    "c1, c2 = Counter(list(s1)), Counter(list(s2))\n",
    "print(c1)\n",
    "print(c2)"
   ]
  },
  {
   "cell_type": "markdown",
   "metadata": {},
   "source": [
    "## Then find a common set of dimensions? (scikit-learn calls this a `Vectorizer`)"
   ]
  },
  {
   "cell_type": "code",
   "execution_count": 21,
   "metadata": {
    "collapsed": false
   },
   "outputs": [
    {
     "data": {
      "text/html": [
       "<div>\n",
       "<table border=\"1\" class=\"dataframe\">\n",
       "  <thead>\n",
       "    <tr style=\"text-align: right;\">\n",
       "      <th></th>\n",
       "      <th></th>\n",
       "      <th>a</th>\n",
       "      <th>b</th>\n",
       "      <th>c</th>\n",
       "      <th>d</th>\n",
       "      <th>e</th>\n",
       "      <th>g</th>\n",
       "      <th>h</th>\n",
       "      <th>i</th>\n",
       "      <th>n</th>\n",
       "      <th>o</th>\n",
       "      <th>p</th>\n",
       "      <th>r</th>\n",
       "      <th>s</th>\n",
       "      <th>t</th>\n",
       "      <th>u</th>\n",
       "      <th>w</th>\n",
       "      <th>y</th>\n",
       "    </tr>\n",
       "  </thead>\n",
       "  <tbody>\n",
       "    <tr>\n",
       "      <th>v1</th>\n",
       "      <td>8</td>\n",
       "      <td>6</td>\n",
       "      <td>2</td>\n",
       "      <td>2</td>\n",
       "      <td>5</td>\n",
       "      <td>4</td>\n",
       "      <td>0</td>\n",
       "      <td>2</td>\n",
       "      <td>0</td>\n",
       "      <td>1</td>\n",
       "      <td>4</td>\n",
       "      <td>1</td>\n",
       "      <td>6</td>\n",
       "      <td>4</td>\n",
       "      <td>5</td>\n",
       "      <td>2</td>\n",
       "      <td>4</td>\n",
       "      <td>0</td>\n",
       "    </tr>\n",
       "    <tr>\n",
       "      <th>v2</th>\n",
       "      <td>10</td>\n",
       "      <td>3</td>\n",
       "      <td>0</td>\n",
       "      <td>2</td>\n",
       "      <td>4</td>\n",
       "      <td>4</td>\n",
       "      <td>1</td>\n",
       "      <td>4</td>\n",
       "      <td>3</td>\n",
       "      <td>4</td>\n",
       "      <td>4</td>\n",
       "      <td>0</td>\n",
       "      <td>6</td>\n",
       "      <td>6</td>\n",
       "      <td>2</td>\n",
       "      <td>2</td>\n",
       "      <td>5</td>\n",
       "      <td>1</td>\n",
       "    </tr>\n",
       "  </tbody>\n",
       "</table>\n",
       "</div>"
      ],
      "text/plain": [
       "        a  b  c  d  e  g  h  i  n  o  p  r  s  t  u  w  y\n",
       "v1   8  6  2  2  5  4  0  2  0  1  4  1  6  4  5  2  4  0\n",
       "v2  10  3  0  2  4  4  1  4  3  4  4  0  6  6  2  2  5  1"
      ]
     },
     "execution_count": 21,
     "metadata": {},
     "output_type": "execute_result"
    }
   ],
   "source": [
    "keys = sorted(set(c1).union(set(c2)))\n",
    "import numpy as np\n",
    "import pandas as pd\n",
    "v1, v2 = np.array([c1.get(k, 0) for k in keys]), np.array([c2.get(k, 0) for k in keys])\n",
    "pd.DataFrame(np.matrix([v1,v2]), columns=keys, index=['v1', 'v2'])\n"
   ]
  },
  {
   "cell_type": "markdown",
   "metadata": {},
   "source": [
    "## And use conventional vector algebra..."
   ]
  },
  {
   "cell_type": "code",
   "execution_count": 29,
   "metadata": {
    "collapsed": false
   },
   "outputs": [
    {
     "name": "stdout",
     "output_type": "stream",
     "text": [
      "7.54983443527\n",
      "1/10.0-norm of difference: 2.4183996106e+11\n",
      "normalized 1/10.0-norm of difference: 0.067094596788\n",
      "1/2.0-norm of difference: 309.234246567\n",
      "normalized 1/2.0-norm of difference: 0.343500456814\n",
      "1/1.0-norm of difference: 25\n",
      "normalized 1/1.0-norm of difference: 0.409836065574\n",
      "1/0.5-norm of difference: 7.54983443527\n",
      "normalized 1/0.5-norm of difference: 0.429495074963\n"
     ]
    }
   ],
   "source": [
    "print(np.sqrt(np.sum((v1 - v2)**2)))\n",
    "for p in (0.1, 0.5, 1, 2):\n",
    "    # dist = (np.sum(np.abs(v1 - v2)**p))**(1./p)\n",
    "    dist = norm(v1 - v2, p)\n",
    "    print('1/{}-norm of difference: {}'.format(1./p, dist))\n",
    "    print('normalized 1/{}-norm of difference: {}'.format(1./p, dist / max(norm(v1, p), norm(v2, p))))\n"
   ]
  },
  {
   "cell_type": "code",
   "execution_count": null,
   "metadata": {
    "collapsed": true
   },
   "outputs": [],
   "source": [
    "## Or find the cosine of the angle between these high-dimensional vectors (cosine distance)"
   ]
  },
  {
   "cell_type": "code",
   "execution_count": 28,
   "metadata": {
    "collapsed": false
   },
   "outputs": [
    {
     "name": "stdout",
     "output_type": "stream",
     "text": [
      "cosine distance: 0.097\n",
      "cosine similarity: 0.903\n"
     ]
    }
   ],
   "source": [
    "from numpy.linalg import norm\n",
    "cos_dist = np.dot(v1 / norm(v1), v2 / norm(v2))\n",
    "print('cosine distance: {:.3f}\\ncosine similarity: {:.3f}'.format(1 - cos_dist, cos_dist) )\n"
   ]
  },
  {
   "cell_type": "code",
   "execution_count": null,
   "metadata": {
    "collapsed": true
   },
   "outputs": [],
   "source": []
  }
 ],
 "metadata": {
  "kernelspec": {
   "display_name": "Python 2",
   "language": "python",
   "name": "python2"
  },
  "language_info": {
   "codemirror_mode": {
    "name": "ipython",
    "version": 2
   },
   "file_extension": ".py",
   "mimetype": "text/x-python",
   "name": "python",
   "nbconvert_exporter": "python",
   "pygments_lexer": "ipython2",
   "version": "2.7.9"
  }
 },
 "nbformat": 4,
 "nbformat_minor": 0
}
