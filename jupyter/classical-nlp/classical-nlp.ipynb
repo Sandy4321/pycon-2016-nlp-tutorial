{
 "metadata": {
  "name": "",
  "signature": "sha256:ab54936d368284fb6e1c8328d7fdd93b65c219ad62e320e4b2169d1106e7780f"
 },
 "nbformat": 3,
 "nbformat_minor": 0,
 "worksheets": [
  {
   "cells": [
    {
     "cell_type": "markdown",
     "metadata": {},
     "source": [
      "### Let's go on a text adventure!"
     ]
    },
    {
     "cell_type": "code",
     "collapsed": false,
     "input": [
      "%run ta/story.py"
     ],
     "language": "python",
     "metadata": {},
     "outputs": [
      {
       "output_type": "stream",
       "stream": "stdout",
       "text": [
        "Escape from Goula!\n",
        "==================\n",
        "\n",
        "castle tower\n",
        "============\n",
        "You wake up on the cold, stone floor. A rectangle of orange light strike the\n",
        "floor. You see a man dressed black trench coat. He says to you, \"the wizard\n",
        "request you to go on a quest. A book you will take or maybe just make. A shell\n",
        "which will wisper and tell. A cloth as big as a blanket. Everything else you\n",
        "will find on your way.\"\n",
        "\n",
        "A rectangle of light.\n",
        "\n",
        "North: Hillside Street\n",
        "East: Harbor Street\n"
       ]
      },
      {
       "name": "stdout",
       "output_type": "stream",
       "stream": "stdout",
       "text": [
        "\n",
        ">>> n\n"
       ]
      },
      {
       "output_type": "stream",
       "stream": "stdout",
       "text": [
        "You move to the north.\n",
        "Hillside Street\n",
        "===============\n",
        "The beautiful statue of Ben Franklin with flowers around the statue of Ben\n",
        "Franklin. A women is selling flowers\n",
        "\n",
        "A bunch of flowers wrapped in a ribbon.\n",
        "\n",
        "South: castle tower\n",
        "East: Bakery\n",
        "West: Hillside Park\n"
       ]
      },
      {
       "name": "stdout",
       "output_type": "stream",
       "stream": "stdout",
       "text": [
        "\n",
        ">>> quit\n"
       ]
      }
     ],
     "prompt_number": 1
    },
    {
     "cell_type": "markdown",
     "metadata": {},
     "source": [
      "This game was created by a 9 yr-old, so it may be impossible to solve. But one thing you can be sure of, it can be implemented with a Deterministic Finite State Machine. The only data required to hold on the information in this world is contained in a [json file](the-magic-mission.json) of connections between states and the descriptions of those states.\n",
      "These sorts of games were popular in the 70's and 80's when AI and PCs were just taking off.\n",
      "As we look back, we realize that these were some of the first natural language conversational dialog engines.\n",
      "Mathematicians quickly came up with a data structure and model of the processing required to implement these \"worlds\" -- regular expressions, one of the most restricted forms of a Turing Machine. You can prove a lot of things and employ a lot of algoebra with regexes that you can't with a general Turing Machine or less restrictive  If you think about each statement you input into the console as a \"symbol\" and each new location in the world as a \"state\" then the connection to Deterministic Finite State Automata (Regular Expressions) becomes clear.\n",
      "But what about complex worlds where you can do more than just move around, like pick up things required to make future actions possible. That's called a context-sensitive finite state machine. The automata is given a FIFO stack to use to store and retreive one thing from the top of a stack of things that can be \"remembered.\" Things get a lot more complicated if you want to \"solve\" one of these games automatically or enumerate all their possible states. Though the states are enumerable it may not be impractical to explore them all."
     ]
    }
   ],
   "metadata": {}
  }
 ]
}